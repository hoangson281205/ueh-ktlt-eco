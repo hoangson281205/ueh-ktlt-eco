{
  "nbformat": 4,
  "nbformat_minor": 0,
  "metadata": {
    "colab": {
      "provenance": [],
      "authorship_tag": "ABX9TyOsMw/RCE64JAJHRtlj9AB4",
      "include_colab_link": true
    },
    "kernelspec": {
      "name": "python3",
      "display_name": "Python 3"
    },
    "language_info": {
      "name": "python"
    }
  },
  "cells": [
    {
      "cell_type": "markdown",
      "metadata": {
        "id": "view-in-github",
        "colab_type": "text"
      },
      "source": [
        "<a href=\"https://colab.research.google.com/github/hoangson281205/ueh-ktlt-eco/blob/main/Buoi2_160825.ipynb\" target=\"_parent\"><img src=\"https://colab.research.google.com/assets/colab-badge.svg\" alt=\"Open In Colab\"/></a>"
      ]
    },
    {
      "cell_type": "code",
      "execution_count": null,
      "metadata": {
        "colab": {
          "base_uri": "https://localhost:8080/"
        },
        "id": "F8JMx5wjpQMX",
        "outputId": "c79bab1f-4f64-4110-8fe6-4972e4c89a2c"
      },
      "outputs": [
        {
          "output_type": "stream",
          "name": "stdout",
          "text": [
            "x = [60, 70, 80, 90], type(x) = <class 'list'>\n",
            "price = 100.5, type(price) = <class 'float'>\n",
            "word = hello, type(word) = <class 'str'>\n"
          ]
        }
      ],
      "source": [
        "# Khai báo biến trước\n",
        "x = [60, 70, 80, 90]   # list\n",
        "price = 100.5          # float\n",
        "word = \"hello\"         # string\n",
        "\n",
        "# In giá trị và kiểu dữ liệu\n",
        "print(f'x = {x}, type(x) = {type(x)}')\n",
        "print(f'price = {price}, type(price) = {type(price)}')\n",
        "print(f'word = {word}, type(word) = {type(word)}')"
      ]
    },
    {
      "cell_type": "markdown",
      "source": [
        "# PYTHON 101\n"
      ],
      "metadata": {
        "id": "O5mCGQqKxCvc"
      }
    },
    {
      "cell_type": "code",
      "source": [
        "x = 2\n",
        "y = x + 1\n",
        "print(x, y)"
      ],
      "metadata": {
        "colab": {
          "base_uri": "https://localhost:8080/"
        },
        "id": "l3c0BBFSpwWR",
        "outputId": "9e81582d-2cc5-4fe9-cf28-d1f8e040f4ff"
      },
      "execution_count": null,
      "outputs": [
        {
          "output_type": "stream",
          "name": "stdout",
          "text": [
            "2 3\n"
          ]
        }
      ]
    },
    {
      "cell_type": "code",
      "source": [
        "# comment\n",
        "from platform import python_version\n",
        "print(\"Python version:\", python_version())"
      ],
      "metadata": {
        "colab": {
          "base_uri": "https://localhost:8080/"
        },
        "id": "16PZAy6_qNpy",
        "outputId": "fb601ab4-c244-4602-94fb-aaa5100f2c53"
      },
      "execution_count": null,
      "outputs": [
        {
          "output_type": "stream",
          "name": "stdout",
          "text": [
            "Python version: 3.11.13\n"
          ]
        }
      ]
    },
    {
      "cell_type": "code",
      "source": [
        "x = 'Hello, World'\n",
        "print(x, type(x))\n",
        "\n",
        "x = 2\n",
        "print(x, type(x))\n",
        "\n",
        "x = 2.5\n",
        "print(x, type(x))\n",
        "\n",
        "x = 7j\n",
        "print(x, type(x))"
      ],
      "metadata": {
        "colab": {
          "base_uri": "https://localhost:8080/"
        },
        "id": "4vq-xubvqjL4",
        "outputId": "e55b5c16-cd95-4e6a-b32c-68eab4483016"
      },
      "execution_count": null,
      "outputs": [
        {
          "output_type": "stream",
          "name": "stdout",
          "text": [
            "Hello, World <class 'str'>\n",
            "2 <class 'int'>\n",
            "2.5 <class 'float'>\n",
            "7j <class 'complex'>\n"
          ]
        }
      ]
    },
    {
      "cell_type": "code",
      "source": [
        "x = ['apple']\n",
        "print(x, type(x))"
      ],
      "metadata": {
        "colab": {
          "base_uri": "https://localhost:8080/"
        },
        "id": "ghpp2EZLrEri",
        "outputId": "bfee2447-0c9f-47b5-da9e-9a757a6f0b22"
      },
      "execution_count": null,
      "outputs": [
        {
          "output_type": "stream",
          "name": "stdout",
          "text": [
            "['apple'] <class 'list'>\n"
          ]
        }
      ]
    },
    {
      "cell_type": "code",
      "source": [
        "x = {'name' : 'Tome' , 'age' : 20} # dictionary\n",
        "print(x, type(x)), x['name'], x['age']"
      ],
      "metadata": {
        "colab": {
          "base_uri": "https://localhost:8080/"
        },
        "id": "WzxItfsdrbwP",
        "outputId": "658eb835-f358-4c14-cbb8-2beee8fc0a70"
      },
      "execution_count": null,
      "outputs": [
        {
          "output_type": "stream",
          "name": "stdout",
          "text": [
            "{'name': 'Tome', 'age': 20} <class 'dict'>\n"
          ]
        },
        {
          "output_type": "execute_result",
          "data": {
            "text/plain": [
              "(None, 'Tome', 20)"
            ]
          },
          "metadata": {},
          "execution_count": 10
        }
      ]
    },
    {
      "cell_type": "code",
      "source": [
        "# operator\n",
        "print(4+5)\n",
        "print(5-4)\n",
        "print(4*6)\n",
        "print(15 / 2)\n",
        "print( 35 % 3)\n"
      ],
      "metadata": {
        "colab": {
          "base_uri": "https://localhost:8080/"
        },
        "id": "yp7TFz2TsKN5",
        "outputId": "28c35a81-ccc9-4b23-db01-2db6dfcc05a3"
      },
      "execution_count": null,
      "outputs": [
        {
          "output_type": "stream",
          "name": "stdout",
          "text": [
            "9\n",
            "1\n",
            "24\n",
            "7.5\n",
            "2\n"
          ]
        }
      ]
    },
    {
      "cell_type": "code",
      "source": [
        "# comparision\n",
        "print(4<2)"
      ],
      "metadata": {
        "colab": {
          "base_uri": "https://localhost:8080/"
        },
        "id": "ZfYmnvDTuwDq",
        "outputId": "22770450-b91c-47f6-caf1-037dde844215"
      },
      "execution_count": null,
      "outputs": [
        {
          "output_type": "stream",
          "name": "stdout",
          "text": [
            "False\n"
          ]
        }
      ]
    },
    {
      "cell_type": "code",
      "source": [
        "# bmi\n",
        "#input\n",
        "height_cm = 173\n",
        "weight_kg = 65\n",
        "\n",
        "#process\n",
        "height_m = height_cm / 100\n",
        "bmi = (weight_kg / (height_m ** 2))\n",
        "print( 'Your BMI is', round(bmi, 2))"
      ],
      "metadata": {
        "colab": {
          "base_uri": "https://localhost:8080/"
        },
        "id": "rXSTPvVBu5Y3",
        "outputId": "1f42d8a9-960f-46c5-9234-1c5068ddaac6"
      },
      "execution_count": null,
      "outputs": [
        {
          "output_type": "stream",
          "name": "stdout",
          "text": [
            "Your BMI is 21.72\n"
          ]
        }
      ]
    },
    {
      "cell_type": "code",
      "source": [
        "# Future Value\n",
        "amount = 100\n",
        "interest = 10  # 10% = 0.01 * 10\n",
        "years = 7\n",
        "\n",
        "future_value = amount * ((1 + (0.01 * interest)) ** years)\n",
        "print(round(future_value, 2))"
      ],
      "metadata": {
        "colab": {
          "base_uri": "https://localhost:8080/"
        },
        "id": "0WbCP5PLvrhW",
        "outputId": "6cdca7ca-93b0-4318-ad37-b5b7cf27511d"
      },
      "execution_count": null,
      "outputs": [
        {
          "output_type": "stream",
          "name": "stdout",
          "text": [
            "194.87\n"
          ]
        }
      ]
    },
    {
      "cell_type": "code",
      "source": [
        "x = [60, 70, 80, 90]\n",
        "\n",
        "print(len(x))   # Độ dài danh sách\n",
        "print(x[0])     # Phần tử đầu tiên\n",
        "print(x[3])     # Phần tử thứ hai\n",
        "print(x[-1])    # Phần tử cuối cùng"
      ],
      "metadata": {
        "colab": {
          "base_uri": "https://localhost:8080/"
        },
        "id": "kUjOYzKowS2a",
        "outputId": "e9ff1926-756e-4649-c992-98adacbd5708"
      },
      "execution_count": null,
      "outputs": [
        {
          "output_type": "stream",
          "name": "stdout",
          "text": [
            "4\n",
            "60\n",
            "90\n",
            "90\n"
          ]
        }
      ]
    },
    {
      "cell_type": "code",
      "source": [],
      "metadata": {
        "id": "MezLy4yhws-8"
      },
      "execution_count": null,
      "outputs": []
    },
    {
      "cell_type": "markdown",
      "source": [
        "# Cấu trúc dữ liệu"
      ],
      "metadata": {
        "id": "3Vx7sBApxaE4"
      }
    },
    {
      "cell_type": "code",
      "source": [
        "# List\n",
        "x = [\"apple\", \"banana\", \"cherry\"]\n",
        "print(x, type(x))\n",
        "\n",
        "# Tuple\n",
        "x = (\"apple\", \"banana\", \"cherry\")\n",
        "print(x, type(x))\n",
        "\n",
        "# Dictionary\n",
        "x = {\"name\": \"Tom\", \"age\": 20}\n",
        "print(x, type(x))\n",
        "\n",
        "# Set\n",
        "x = {\"apple\", \"banana\", \"cherry\"}\n",
        "print(x, type(x))"
      ],
      "metadata": {
        "colab": {
          "base_uri": "https://localhost:8080/"
        },
        "id": "EndNOFH-xfZ0",
        "outputId": "0fb7c1dd-0a81-4938-b9e7-53600f370847"
      },
      "execution_count": null,
      "outputs": [
        {
          "output_type": "stream",
          "name": "stdout",
          "text": [
            "['apple', 'banana', 'cherry'] <class 'list'>\n",
            "('apple', 'banana', 'cherry') <class 'tuple'>\n",
            "{'name': 'Tom', 'age': 20} <class 'dict'>\n",
            "{'cherry', 'apple', 'banana'} <class 'set'>\n"
          ]
        }
      ]
    },
    {
      "cell_type": "code",
      "source": [
        "x = [60, 70, 80, 90]\n",
        "print(len(x))\n",
        "print(x[0])\n",
        "print(x[1])\n",
        "print(x[-1])\n"
      ],
      "metadata": {
        "colab": {
          "base_uri": "https://localhost:8080/"
        },
        "id": "y2ja11r6xrg4",
        "outputId": "673a4fcb-16dd-4611-e74e-d6b38e8f62c0"
      },
      "execution_count": null,
      "outputs": [
        {
          "output_type": "stream",
          "name": "stdout",
          "text": [
            "4\n",
            "60\n",
            "70\n",
            "90\n"
          ]
        }
      ]
    },
    {
      "cell_type": "code",
      "source": [
        "# tuplet\n",
        "x = (10, 20, 30, 40, 50)\n",
        "print(x[0])\n",
        "print(x[1])\n",
        "print(x[2])\n",
        "print(x[-1])\n"
      ],
      "metadata": {
        "colab": {
          "base_uri": "https://localhost:8080/"
        },
        "id": "l1qvk_qlyB4L",
        "outputId": "d5362c17-1e5f-4afa-f036-2db5a75329af"
      },
      "execution_count": null,
      "outputs": [
        {
          "output_type": "stream",
          "name": "stdout",
          "text": [
            "10\n",
            "20\n",
            "30\n",
            "50\n"
          ]
        }
      ]
    },
    {
      "cell_type": "code",
      "source": [
        "# set\n",
        "animals = {'cat', 'dog'}\n",
        "print('cat' in animals)\n",
        "print('fish' in animals)\n",
        "animals.add('fish')\n",
        "print('fish' in animals)\n",
        "print(len(animals))\n",
        "animals.add('cat')\n",
        "print(len(animals))\n",
        "animals.remove('cat')\n",
        "print(len(animals))\n"
      ],
      "metadata": {
        "colab": {
          "base_uri": "https://localhost:8080/"
        },
        "id": "OgRm4gKDyuxR",
        "outputId": "f5619916-2324-47e2-c84a-31a1c36f0ff5"
      },
      "execution_count": null,
      "outputs": [
        {
          "output_type": "stream",
          "name": "stdout",
          "text": [
            "True\n",
            "False\n",
            "True\n",
            "3\n",
            "3\n",
            "2\n"
          ]
        }
      ]
    },
    {
      "cell_type": "code",
      "source": [
        "# dictionary\n",
        "k = { 'EN':'English'\n",
        ",\n",
        "'FR':'French' }\n",
        "print(k['EN'])"
      ],
      "metadata": {
        "colab": {
          "base_uri": "https://localhost:8080/"
        },
        "id": "_Z9SLOAF0BOX",
        "outputId": "14f8b8b0-d401-426d-e94f-d1f1006fa169"
      },
      "execution_count": null,
      "outputs": [
        {
          "output_type": "stream",
          "name": "stdout",
          "text": [
            "English\n"
          ]
        }
      ]
    },
    {
      "cell_type": "code",
      "source": [
        "fruits = [\"apple\", \"banana\", \"cherry\"] #lists []\n",
        "colors = (\"red\", \"green\", \"blue\") #tuples ()\n",
        "animals = {'cat', 'dog'} #sets {}\n",
        "person = {\"name\" : \"Tom\", \"age\" : 20} #dictionaries {}"
      ],
      "metadata": {
        "id": "tuc7mM5t0HD4"
      },
      "execution_count": null,
      "outputs": []
    },
    {
      "cell_type": "code",
      "source": [
        "# Python Lists\n",
        "expenses = [72.50, 80.75, 54.10, 80.25]\n",
        "total_expenses = sum(expenses)\n",
        "print(\"Total expenses:\", total_expenses)"
      ],
      "metadata": {
        "colab": {
          "base_uri": "https://localhost:8080/"
        },
        "id": "Gc8nd4Cv0UNB",
        "outputId": "238a9a6a-eb5c-49fd-eb0f-938ff324e4ea"
      },
      "execution_count": null,
      "outputs": [
        {
          "output_type": "stream",
          "name": "stdout",
          "text": [
            "Total expenses: 287.6\n"
          ]
        }
      ]
    },
    {
      "cell_type": "code",
      "source": [
        "# Python Tuples\n",
        "accounts = ((\"Cash\", 1001), (\"Accounts Receivable\", 1002),\n",
        "(\"Inventory\", 1003))\n",
        "for account in accounts:\n",
        " print(\"Account name:\", account[0], \"Account number:\", account[1])"
      ],
      "metadata": {
        "colab": {
          "base_uri": "https://localhost:8080/"
        },
        "id": "Ok4ReOo60Z4w",
        "outputId": "1af51807-4daa-4314-f14c-d74da2dc6d72"
      },
      "execution_count": null,
      "outputs": [
        {
          "output_type": "stream",
          "name": "stdout",
          "text": [
            "Account name: Cash Account number: 1001\n",
            "Account name: Accounts Receivable Account number: 1002\n",
            "Account name: Inventory Account number: 1003\n"
          ]
        }
      ]
    },
    {
      "cell_type": "code",
      "source": [
        "# Python Sets\n",
        "account_numbers = {1001, 1002, 1003}\n",
        "new_account_number = 1004\n",
        "if new_account_number not in account_numbers:\n",
        " print(\"Account number\", new_account_number, \"is not in use.\")"
      ],
      "metadata": {
        "colab": {
          "base_uri": "https://localhost:8080/"
        },
        "id": "2NzQvZ1j1kEq",
        "outputId": "7f45a4f1-958f-467e-f5b4-50bfec017ce0"
      },
      "execution_count": null,
      "outputs": [
        {
          "output_type": "stream",
          "name": "stdout",
          "text": [
            "Account number 1004 is not in use.\n"
          ]
        }
      ]
    },
    {
      "cell_type": "code",
      "source": [
        "# Python Dictionaries\n",
        "accounts = {\"1001\": {\"name\": \"Cash\", \"balance\": 500.00, \"type\": \"Asset\"},\n",
        "\"1002\": {\"name\": \"Accounts Receivable\", \"balance\": 1000.00, \"type\": \"Asset\"},\n",
        "\"2001\": {\"name\": \"Accounts Payable\", \"balance\": 750.00, \"type\": \"Liability\"}}\n",
        "for account_number, account_info in accounts.items():\n",
        " print(\"Account number:\", account_number)\n",
        " print(\"Account name:\", account_info[\"name\"])\n",
        " print(\"Account balance:\", account_info[\"balance\"])\n",
        " print(\"Account type:\", account_info[\"type\"])\n"
      ],
      "metadata": {
        "colab": {
          "base_uri": "https://localhost:8080/"
        },
        "id": "wFRIYMeL1rsk",
        "outputId": "0573fc02-e8c8-4549-bafd-86aaf4d08cca"
      },
      "execution_count": null,
      "outputs": [
        {
          "output_type": "stream",
          "name": "stdout",
          "text": [
            "Account number: 1001\n",
            "Account name: Cash\n",
            "Account balance: 500.0\n",
            "Account type: Asset\n",
            "Account number: 1002\n",
            "Account name: Accounts Receivable\n",
            "Account balance: 1000.0\n",
            "Account type: Asset\n",
            "Account number: 2001\n",
            "Account name: Accounts Payable\n",
            "Account balance: 750.0\n",
            "Account type: Liability\n"
          ]
        }
      ]
    },
    {
      "cell_type": "markdown",
      "source": [
        "# Python Control Logic and Loops"
      ],
      "metadata": {
        "id": "AxnBr4hl14U9"
      }
    },
    {
      "cell_type": "code",
      "source": [
        "# Python if\n",
        "score = 80\n",
        "if score >=60 :\n",
        " print(\"Pass\")"
      ],
      "metadata": {
        "colab": {
          "base_uri": "https://localhost:8080/"
        },
        "id": "r05ueB2P2AU1",
        "outputId": "04f20ba0-9596-4899-9391-4b1e18d35bba"
      },
      "execution_count": null,
      "outputs": [
        {
          "output_type": "stream",
          "name": "stdout",
          "text": [
            "Pass\n"
          ]
        }
      ]
    },
    {
      "cell_type": "code",
      "source": [
        "# Python if else\n",
        "score = 80\n",
        "if score >=60 :\n",
        " print(\"Pass\")\n",
        "else:\n",
        " print(\"Fail\")"
      ],
      "metadata": {
        "colab": {
          "base_uri": "https://localhost:8080/"
        },
        "id": "tytJmVsX6USn",
        "outputId": "0e7d13fb-e40b-483f-adfe-44c3ba2cf237"
      },
      "execution_count": null,
      "outputs": [
        {
          "output_type": "stream",
          "name": "stdout",
          "text": [
            "Pass\n"
          ]
        }
      ]
    },
    {
      "cell_type": "code",
      "source": [
        "score = 95\n",
        "if score >= 90 :\n",
        "  print(\"A\")\n",
        "elif score >=60 :\n",
        "  print(\"Pass\")\n",
        "else:\n",
        "  print(\"Fail\")"
      ],
      "metadata": {
        "colab": {
          "base_uri": "https://localhost:8080/"
        },
        "id": "_91Vy0kC6ZlR",
        "outputId": "c9cc24b0-5dda-49c1-c050-5a07ea60c9a1"
      },
      "execution_count": null,
      "outputs": [
        {
          "output_type": "stream",
          "name": "stdout",
          "text": [
            "A\n"
          ]
        }
      ]
    },
    {
      "cell_type": "code",
      "source": [
        "# Python if elif else\n",
        "score = 90\n",
        "grade = \"\"\n",
        "if score >=90:\n",
        " grade = \"A\"\n",
        "elif score >= 80:\n",
        " grade = \"B\"\n",
        "elif score >= 70:\n",
        "  grade = \"C\"\n",
        "elif score >= 60:\n",
        " grade = \"D\"\n",
        "else:\n",
        " grade = \"E\"\n",
        "print(grade)"
      ],
      "metadata": {
        "colab": {
          "base_uri": "https://localhost:8080/"
        },
        "id": "wZfJ30ON6l9G",
        "outputId": "7851b59d-7a82-4df6-8dff-843e3dbba40a"
      },
      "execution_count": null,
      "outputs": [
        {
          "output_type": "stream",
          "name": "stdout",
          "text": [
            "A\n"
          ]
        }
      ]
    }
  ]
}