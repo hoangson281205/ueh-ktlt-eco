{
 "cells": [
  {
   "cell_type": "markdown",
   "id": "b42448be-ef77-4bb6-9def-a11b48dbd168",
   "metadata": {},
   "source": [
    "# Thuc hanh tri tue nhan tao Buoi 1\n",
    "\n",
    "## Noi dung thuc hanh"
   ]
  },
  {
   "cell_type": "markdown",
   "id": "c8ffed78-3fa7-4608-a2e3-5a930dad4c92",
   "metadata": {},
   "source": [
    "### In chu ra man hinh "
   ]
  },
  {
   "cell_type": "code",
   "execution_count": 1,
   "id": "0bd39a59-b40d-4c89-a4df-a340fa784ddc",
   "metadata": {},
   "outputs": [
    {
     "name": "stdout",
     "output_type": "stream",
     "text": [
      "Hello, Python World!\n"
     ]
    }
   ],
   "source": [
    "# lenh 1 - xuat chu \n",
    "print(\"Hello, Python World!\")"
   ]
  },
  {
   "cell_type": "markdown",
   "id": "3d7410a8-2250-4099-9aca-39248d1c5803",
   "metadata": {},
   "source": [
    "### Chay tap tin python"
   ]
  },
  {
   "cell_type": "code",
   "execution_count": 2,
   "id": "60f1c1ce-b6e1-4e77-846e-d30ad1225ac1",
   "metadata": {},
   "outputs": [
    {
     "name": "stdout",
     "output_type": "stream",
     "text": [
      "Hello, Python World!\n"
     ]
    }
   ],
   "source": [
    "!python ex0_hello_world.py"
   ]
  },
  {
   "cell_type": "code",
   "execution_count": 3,
   "id": "9d84b489-f4cc-4b42-9532-722e1a53b3d1",
   "metadata": {
    "tags": []
   },
   "outputs": [
    {
     "name": "stdout",
     "output_type": "stream",
     "text": [
      "Hello, Python World!\n"
     ]
    }
   ],
   "source": [
    "%run ex0_hello_world.py"
   ]
  },
  {
   "cell_type": "markdown",
   "id": "37e4bc79-c85a-4279-81bf-07879df35304",
   "metadata": {
    "tags": []
   },
   "source": [
    "### Tính toán đơn giản"
   ]
  },
  {
   "cell_type": "code",
   "execution_count": 4,
   "id": "ae6d1a92-2468-45bd-918d-bc2e89eb0138",
   "metadata": {},
   "outputs": [
    {
     "name": "stdout",
     "output_type": "stream",
     "text": [
      "Calculator Basic\n"
     ]
    },
    {
     "name": "stdin",
     "output_type": "stream",
     "text": [
      "Moi ban nhap so a:  7\n",
      "Moi ban nhap so b:  3\n"
     ]
    },
    {
     "name": "stdout",
     "output_type": "stream",
     "text": [
      "c = 7 + 3 = 10\n"
     ]
    }
   ],
   "source": [
    "%run ex1_calc.py "
   ]
  },
  {
   "cell_type": "code",
   "execution_count": 5,
   "id": "cd3e20bf-6eb8-461e-a747-914988d18184",
   "metadata": {},
   "outputs": [
    {
     "name": "stdout",
     "output_type": "stream",
     "text": [
      "Calculator Basic\n"
     ]
    },
    {
     "name": "stdin",
     "output_type": "stream",
     "text": [
      "Moi ban nhap so a:  5\n",
      "Moi ban nhap so b:  15\n"
     ]
    },
    {
     "name": "stdout",
     "output_type": "stream",
     "text": [
      "c = 5 + 15 = 20\n"
     ]
    }
   ],
   "source": [
    "print(\"Calculator Basic\")\n",
    "a = int (input(\"Moi ban nhap so a: \"))\n",
    "b = int (input(\"Moi ban nhap so b: \"))\n",
    "c = a + b\n",
    "print (\"c = %d + %d = %d\" % (a, b, c))"
   ]
  },
  {
   "cell_type": "markdown",
   "id": "cbb58f26-4d93-4aae-bce4-4f10a7b11c30",
   "metadata": {},
   "source": [
    "# Ket thuc"
   ]
  },
  {
   "cell_type": "code",
   "execution_count": null,
   "id": "09cc5420-23a7-4a4a-8c88-771555f203a7",
   "metadata": {},
   "outputs": [],
   "source": []
  }
 ],
 "metadata": {
  "kernelspec": {
   "display_name": "Python 3 (ipykernel)",
   "language": "python",
   "name": "python3"
  },
  "language_info": {
   "codemirror_mode": {
    "name": "ipython",
    "version": 3
   },
   "file_extension": ".py",
   "mimetype": "text/x-python",
   "name": "python",
   "nbconvert_exporter": "python",
   "pygments_lexer": "ipython3",
   "version": "3.13.5"
  }
 },
 "nbformat": 4,
 "nbformat_minor": 5
}
